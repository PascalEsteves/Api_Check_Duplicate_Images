{
 "cells": [
  {
   "cell_type": "code",
   "execution_count": 16,
   "id": "c4b36d23-0117-4639-ba98-b2771693640e",
   "metadata": {},
   "outputs": [],
   "source": [
    "import requests\n",
    "import json\n",
    "from azure.storage.blob import BlobServiceClient,generate_blob_sas,BlobSasPermissions\n",
    "from dateutil.relativedelta import relativedelta"
   ]
  },
  {
   "cell_type": "code",
   "execution_count": 17,
   "id": "3a32a243-78fa-435d-8993-abf28fc25def",
   "metadata": {},
   "outputs": [],
   "source": [
    "def get_sas_link(client, container_name, blob_name):\n",
    "\n",
    "    image =  client.get_blob_client(container=container_name, blob=blob_name)\n",
    "\n",
    "    token = generate_blob_sas(account_name=user,\n",
    "                                  account_key = key,\n",
    "                                  container_name = container_name,\n",
    "                                  blob_name= blob_name.replace('\\\\','/'),\n",
    "                                  permission=BlobSasPermissions(read=True, tag=False),\n",
    "                                  expiry=datetime.utcnow() + relativedelta(months=3)\n",
    "                                  )\n",
    "\n",
    "    return image.url + \"?\" + token\n",
    "\n",
    "def get_result_from_api(url_A, url_B):\n",
    "    \n",
    "    url = \"http://127.0.0.1:8000/check_duplciate_image\"\n",
    "\n",
    "    headers = {\n",
    "        \"Content-Type\": \"application/json\"\n",
    "    }\n",
    "\n",
    "    data = {\n",
    "        \"url_image_A\" : url_A,\n",
    "        \"url_image_B\" : url_B\n",
    "    }\n",
    "\n",
    "    response = requests.get(url, headers=headers, data=json.dumps(data))\n",
    "    \n",
    "    return response\n",
    "\n"
   ]
  },
  {
   "cell_type": "code",
   "execution_count": null,
   "id": "06987a64-f9fb-4c37-bac0-1abc31061ee1",
   "metadata": {},
   "outputs": [],
   "source": [
    "f = open('config.json','r')\n",
    "config = json.load(f)\n",
    "user = config['username']\n",
    "key  = config['password']\n",
    "\n",
    "blob_client = BlobServiceClient(account_url=f\"https://{user}.blob.core.windows.net\",\n",
    "                                credential=key)\n",
    "\n",
    "url_A = get_sas_link(blob_client,container_name = 'container_name',\n",
    "                   blob_name= 'file_path_A')\n",
    "url_B = get_sas_link(blob_client,container_name = 'container_name',\n",
    "                   blob_name= 'file_path_B')\n",
    "\n",
    "result = get_result_from_api(url_A, url_B)\n",
    "result.json()"
   ]
  }
 ],
 "metadata": {
  "kernelspec": {
   "display_name": "Python 3 (ipykernel)",
   "language": "python",
   "name": "python3"
  },
  "language_info": {
   "codemirror_mode": {
    "name": "ipython",
    "version": 3
   },
   "file_extension": ".py",
   "mimetype": "text/x-python",
   "name": "python",
   "nbconvert_exporter": "python",
   "pygments_lexer": "ipython3",
   "version": "3.9.13"
  }
 },
 "nbformat": 4,
 "nbformat_minor": 5
}
